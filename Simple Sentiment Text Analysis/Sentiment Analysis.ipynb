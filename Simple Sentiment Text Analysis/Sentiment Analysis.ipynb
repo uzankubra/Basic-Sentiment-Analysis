{
 "cells": [
  {
   "cell_type": "code",
   "execution_count": 22,
   "id": "f2531e48",
   "metadata": {},
   "outputs": [],
   "source": [
    "# We will output 1 for text files with positive emotions, 0 for neutral ones, and -1 for negative emotions."
   ]
  },
  {
   "cell_type": "code",
   "execution_count": 1,
   "id": "685ff619",
   "metadata": {
    "scrolled": true
   },
   "outputs": [
    {
     "name": "stdout",
     "output_type": "stream",
     "text": [
      "Collecting newspaper3k\n",
      "  Downloading newspaper3k-0.2.8-py3-none-any.whl (211 kB)\n",
      "\u001b[2K     \u001b[90m━━━━━━━━━━━━━━━━━━━━━━━━━━━━━━━━━━━━━━━\u001b[0m \u001b[32m211.1/211.1 kB\u001b[0m \u001b[31m1.0 MB/s\u001b[0m eta \u001b[36m0:00:00\u001b[0ma \u001b[36m0:00:01\u001b[0m\n",
      "\u001b[?25hRequirement already satisfied: nltk>=3.2.1 in /Users/kubrauzan/anaconda3/lib/python3.10/site-packages (from newspaper3k) (3.7)\n",
      "Requirement already satisfied: beautifulsoup4>=4.4.1 in /Users/kubrauzan/anaconda3/lib/python3.10/site-packages (from newspaper3k) (4.11.1)\n",
      "Requirement already satisfied: PyYAML>=3.11 in /Users/kubrauzan/anaconda3/lib/python3.10/site-packages (from newspaper3k) (6.0)\n",
      "Requirement already satisfied: requests>=2.10.0 in /Users/kubrauzan/anaconda3/lib/python3.10/site-packages (from newspaper3k) (2.28.1)\n",
      "Collecting feedfinder2>=0.0.4\n",
      "  Downloading feedfinder2-0.0.4.tar.gz (3.3 kB)\n",
      "  Preparing metadata (setup.py) ... \u001b[?25ldone\n",
      "\u001b[?25hCollecting feedparser>=5.2.1\n",
      "  Downloading feedparser-6.0.10-py3-none-any.whl (81 kB)\n",
      "\u001b[2K     \u001b[90m━━━━━━━━━━━━━━━━━━━━━━━━━━━━━━━━━━━━━━━━\u001b[0m \u001b[32m81.1/81.1 kB\u001b[0m \u001b[31m3.4 MB/s\u001b[0m eta \u001b[36m0:00:00\u001b[0m\n",
      "\u001b[?25hCollecting jieba3k>=0.35.1\n",
      "  Downloading jieba3k-0.35.1.zip (7.4 MB)\n",
      "\u001b[2K     \u001b[90m━━━━━━━━━━━━━━━━━━━━━━━━━━━━━━━━━━━━━━━━\u001b[0m \u001b[32m7.4/7.4 MB\u001b[0m \u001b[31m5.0 MB/s\u001b[0m eta \u001b[36m0:00:00\u001b[0m00:01\u001b[0m00:01\u001b[0m\n",
      "\u001b[?25h  Preparing metadata (setup.py) ... \u001b[?25ldone\n",
      "\u001b[?25hCollecting tinysegmenter==0.3\n",
      "  Downloading tinysegmenter-0.3.tar.gz (16 kB)\n",
      "  Preparing metadata (setup.py) ... \u001b[?25ldone\n",
      "\u001b[?25hRequirement already satisfied: lxml>=3.6.0 in /Users/kubrauzan/anaconda3/lib/python3.10/site-packages (from newspaper3k) (4.9.1)\n",
      "Requirement already satisfied: Pillow>=3.3.0 in /Users/kubrauzan/anaconda3/lib/python3.10/site-packages (from newspaper3k) (9.4.0)\n",
      "Requirement already satisfied: python-dateutil>=2.5.3 in /Users/kubrauzan/anaconda3/lib/python3.10/site-packages (from newspaper3k) (2.8.2)\n",
      "Requirement already satisfied: cssselect>=0.9.2 in /Users/kubrauzan/anaconda3/lib/python3.10/site-packages (from newspaper3k) (1.1.0)\n",
      "Requirement already satisfied: tldextract>=2.0.1 in /Users/kubrauzan/anaconda3/lib/python3.10/site-packages (from newspaper3k) (3.2.0)\n",
      "Requirement already satisfied: soupsieve>1.2 in /Users/kubrauzan/anaconda3/lib/python3.10/site-packages (from beautifulsoup4>=4.4.1->newspaper3k) (2.3.2.post1)\n",
      "Requirement already satisfied: six in /Users/kubrauzan/anaconda3/lib/python3.10/site-packages (from feedfinder2>=0.0.4->newspaper3k) (1.16.0)\n",
      "Collecting sgmllib3k\n",
      "  Downloading sgmllib3k-1.0.0.tar.gz (5.8 kB)\n",
      "  Preparing metadata (setup.py) ... \u001b[?25ldone\n",
      "\u001b[?25hRequirement already satisfied: joblib in /Users/kubrauzan/anaconda3/lib/python3.10/site-packages (from nltk>=3.2.1->newspaper3k) (1.1.1)\n",
      "Requirement already satisfied: tqdm in /Users/kubrauzan/anaconda3/lib/python3.10/site-packages (from nltk>=3.2.1->newspaper3k) (4.64.1)\n",
      "Requirement already satisfied: regex>=2021.8.3 in /Users/kubrauzan/anaconda3/lib/python3.10/site-packages (from nltk>=3.2.1->newspaper3k) (2022.7.9)\n",
      "Requirement already satisfied: click in /Users/kubrauzan/anaconda3/lib/python3.10/site-packages (from nltk>=3.2.1->newspaper3k) (8.0.4)\n",
      "Requirement already satisfied: certifi>=2017.4.17 in /Users/kubrauzan/anaconda3/lib/python3.10/site-packages (from requests>=2.10.0->newspaper3k) (2023.5.7)\n",
      "Requirement already satisfied: urllib3<1.27,>=1.21.1 in /Users/kubrauzan/anaconda3/lib/python3.10/site-packages (from requests>=2.10.0->newspaper3k) (1.26.14)\n",
      "Requirement already satisfied: idna<4,>=2.5 in /Users/kubrauzan/anaconda3/lib/python3.10/site-packages (from requests>=2.10.0->newspaper3k) (3.4)\n",
      "Requirement already satisfied: charset-normalizer<3,>=2 in /Users/kubrauzan/anaconda3/lib/python3.10/site-packages (from requests>=2.10.0->newspaper3k) (2.0.4)\n",
      "Requirement already satisfied: filelock>=3.0.8 in /Users/kubrauzan/anaconda3/lib/python3.10/site-packages (from tldextract>=2.0.1->newspaper3k) (3.9.0)\n",
      "Requirement already satisfied: requests-file>=1.4 in /Users/kubrauzan/anaconda3/lib/python3.10/site-packages (from tldextract>=2.0.1->newspaper3k) (1.5.1)\n",
      "Building wheels for collected packages: tinysegmenter, feedfinder2, jieba3k, sgmllib3k\n",
      "  Building wheel for tinysegmenter (setup.py) ... \u001b[?25ldone\n",
      "\u001b[?25h  Created wheel for tinysegmenter: filename=tinysegmenter-0.3-py3-none-any.whl size=13539 sha256=2fb12c5e7311ef1c1e919f5caf8d79ce6e428db48bc926c4394106b4da68ea4a\n",
      "  Stored in directory: /Users/kubrauzan/Library/Caches/pip/wheels/9e/14/bb/6f49188191db1acb539a457f2870a07a85f077526b9ad458cd\n",
      "  Building wheel for feedfinder2 (setup.py) ... \u001b[?25ldone\n",
      "\u001b[?25h  Created wheel for feedfinder2: filename=feedfinder2-0.0.4-py3-none-any.whl size=3341 sha256=856ceb25c5b414abb29f2fac54f72a1ccd3e25ef95611d2e1740fc4a3369b283\n",
      "  Stored in directory: /Users/kubrauzan/Library/Caches/pip/wheels/15/21/7d/18b75fa5ae96421e6b78578f5299a350c6794cd16119173b63\n",
      "  Building wheel for jieba3k (setup.py) ... \u001b[?25ldone\n",
      "\u001b[?25h  Created wheel for jieba3k: filename=jieba3k-0.35.1-py3-none-any.whl size=7398382 sha256=2369dd140e82d5d85666624b7c85aeff0f2e9ea4110184b7872421c2d3f29734\n",
      "  Stored in directory: /Users/kubrauzan/Library/Caches/pip/wheels/2d/c5/ea/66b85aca88bcec82656760c49bb8614e0ef72ef87f08767590\n",
      "  Building wheel for sgmllib3k (setup.py) ... \u001b[?25ldone\n",
      "\u001b[?25h  Created wheel for sgmllib3k: filename=sgmllib3k-1.0.0-py3-none-any.whl size=6048 sha256=70fb305e06d1d4822768991da3f340eff7781724b1dabd419efe80d61b9964f6\n",
      "  Stored in directory: /Users/kubrauzan/Library/Caches/pip/wheels/3b/24/68/f82c1fe16fe6cc7c6f9f67fe4bbf2a4ce527dea6b14a4b34ee\n",
      "Successfully built tinysegmenter feedfinder2 jieba3k sgmllib3k\n",
      "Installing collected packages: tinysegmenter, sgmllib3k, jieba3k, feedparser, feedfinder2, newspaper3k\n",
      "Successfully installed feedfinder2-0.0.4 feedparser-6.0.10 jieba3k-0.35.1 newspaper3k-0.2.8 sgmllib3k-1.0.0 tinysegmenter-0.3\n"
     ]
    }
   ],
   "source": [
    "!pip install newspaper3k"
   ]
  },
  {
   "cell_type": "code",
   "execution_count": 2,
   "id": "79d1b128",
   "metadata": {},
   "outputs": [
    {
     "name": "stdout",
     "output_type": "stream",
     "text": [
      "Collecting textblob\n",
      "  Downloading textblob-0.17.1-py2.py3-none-any.whl (636 kB)\n",
      "\u001b[2K     \u001b[90m━━━━━━━━━━━━━━━━━━━━━━━━━━━━━━━━━━━━━━━\u001b[0m \u001b[32m636.8/636.8 kB\u001b[0m \u001b[31m1.7 MB/s\u001b[0m eta \u001b[36m0:00:00\u001b[0m00:01\u001b[0m00:01\u001b[0m\n",
      "\u001b[?25hRequirement already satisfied: nltk>=3.1 in /Users/kubrauzan/anaconda3/lib/python3.10/site-packages (from textblob) (3.7)\n",
      "Requirement already satisfied: joblib in /Users/kubrauzan/anaconda3/lib/python3.10/site-packages (from nltk>=3.1->textblob) (1.1.1)\n",
      "Requirement already satisfied: tqdm in /Users/kubrauzan/anaconda3/lib/python3.10/site-packages (from nltk>=3.1->textblob) (4.64.1)\n",
      "Requirement already satisfied: click in /Users/kubrauzan/anaconda3/lib/python3.10/site-packages (from nltk>=3.1->textblob) (8.0.4)\n",
      "Requirement already satisfied: regex>=2021.8.3 in /Users/kubrauzan/anaconda3/lib/python3.10/site-packages (from nltk>=3.1->textblob) (2022.7.9)\n",
      "Installing collected packages: textblob\n",
      "Successfully installed textblob-0.17.1\n"
     ]
    }
   ],
   "source": [
    "!pip install textblob"
   ]
  },
  {
   "cell_type": "code",
   "execution_count": 3,
   "id": "d94ea588",
   "metadata": {},
   "outputs": [
    {
     "name": "stdout",
     "output_type": "stream",
     "text": [
      "Requirement already satisfied: nltk in /Users/kubrauzan/anaconda3/lib/python3.10/site-packages (3.7)\r\n",
      "Requirement already satisfied: tqdm in /Users/kubrauzan/anaconda3/lib/python3.10/site-packages (from nltk) (4.64.1)\r\n",
      "Requirement already satisfied: regex>=2021.8.3 in /Users/kubrauzan/anaconda3/lib/python3.10/site-packages (from nltk) (2022.7.9)\r\n",
      "Requirement already satisfied: click in /Users/kubrauzan/anaconda3/lib/python3.10/site-packages (from nltk) (8.0.4)\r\n",
      "Requirement already satisfied: joblib in /Users/kubrauzan/anaconda3/lib/python3.10/site-packages (from nltk) (1.1.1)\r\n"
     ]
    }
   ],
   "source": [
    "!pip install nltk"
   ]
  },
  {
   "cell_type": "code",
   "execution_count": 5,
   "id": "b522e05d",
   "metadata": {},
   "outputs": [],
   "source": [
    "from textblob import TextBlob\n",
    "from newspaper import Article"
   ]
  },
  {
   "cell_type": "code",
   "execution_count": 6,
   "id": "9acda54d",
   "metadata": {},
   "outputs": [],
   "source": [
    "url= \"https://tr.wikipedia.org/wiki/T%C3%BCrkiye%27de_ekonomik_krizler\""
   ]
  },
  {
   "cell_type": "code",
   "execution_count": 10,
   "id": "a7d07443",
   "metadata": {},
   "outputs": [
    {
     "name": "stderr",
     "output_type": "stream",
     "text": [
      "[nltk_data] Downloading package punkt to /Users/kubrauzan/nltk_data...\n",
      "[nltk_data]   Unzipping tokenizers/punkt.zip.\n"
     ]
    },
    {
     "data": {
      "text/plain": [
       "True"
      ]
     },
     "execution_count": 10,
     "metadata": {},
     "output_type": "execute_result"
    }
   ],
   "source": [
    "import nltk\n",
    "nltk.download('punkt')"
   ]
  },
  {
   "cell_type": "code",
   "execution_count": 12,
   "id": "a848d6b4",
   "metadata": {},
   "outputs": [],
   "source": [
    "article= Article(url)\n",
    "article.download()\n",
    "article.parse()\n",
    "article.nlp()"
   ]
  },
  {
   "cell_type": "code",
   "execution_count": 14,
   "id": "c5010a16",
   "metadata": {},
   "outputs": [],
   "source": [
    "text=article.text"
   ]
  },
  {
   "cell_type": "code",
   "execution_count": 15,
   "id": "bc551191",
   "metadata": {},
   "outputs": [
    {
     "data": {
      "text/plain": [
       "'Türkiye\\'de finansal krizler ya da ekonomik krizler makro ekonomik yapının bozulmasıyla ortaya çıkan buhran dönemleridir. 1929 Dünya Ekonomik Bunalımı sonrası yaşanan başlıca krizler; 1946, 1958, 1960, 1974, 1980, 1982, 1990, 1994, 2000-2001, 2008-2012 ve 2018-2023 krizleridir.\\n\\n1946 krizi [ değiştir | kaynağı değiştir ]\\n\\nİkinci Dünya Savaşı döneminde Türkiye\\'de üretim hızla gerilemiş, tarıma dayalı ekonomide genç nüfusun askere alınması ve teçhizat yetersizliği nedeniyle 1945 yılı tarımsal hasılası önemli derecede gerilemiştir. Fiyatlar genel düzeyinin aşırı yükselmesi üzerine, 18.01.1940 tarihinde yürürlüğe 3780 sayılı \"Millî Korunma Kanunu\" girmiş ve o dönemin koşulları altında hükûmete olağanüstü yetkiler verilmiştir. Bu kanun, hükûmete, fabrikalarda üretilen malların değer fiyatını ödemek şartıyla el koyup stok etme, fabrikalara el koyup işletme, işçilere mecburi mükellefiyet yükleme, malların fiyatlarını saptama, mamulleri muayyen usullere tevzi etme, halkın ihtiyaçlarıyla ilgili iktisadi ve ticari faaliyette bulunmak üzere devlet müesseseleri kurmak gibi çok geniş yetkiler vermiştir. Bu dönemdeki ender olumlu gelişme olarak göze çarpan ise, savaş koşullarında artan stratejik maden talebi sonucu madencilik, elektrik, gaz ve su hasılalarında bir miktar artış olmasıdır.[1] Savaş dönemi boyunca hasıla gerilemesine rağmen tasarruf düzeyi önemli ölçüde artmıştır.\\n\\nYine bu tarihte Türkiye Cumhuriyeti tarihindeki ilk devalüasyon gerçekleşmiştir. 7 Eylül 1946 tarihli devalüasyon ile 1 dolar = 1,29 TL olan resmi dolar/TL paritesi; 1 dolar = 2,80 TL olarak değiştirilmiştir. Bu devalüasyon ile ithalat üstündeki kısıtlamalar kaldırılmış ancak politika ithalatın ihracattaki gelişmeyi çok aşan bir oranda büyümesine yol açmıştır. 1946 devalüasyonunun yapıldığı sırada Türkiye\\'nin geleneksel tarım ürünleri fazlalarının, savaştan zor durumda çıkan Avrupa\\'ya kolaylıkla satılabileceği, bu nedenle devalüasyon kararının hatalı bir karar olduğu öne sürülmüştür.[2]\\n\\n1958 krizi [ değiştir | kaynağı değiştir ]\\n\\n1930-1945 döneminde (1938 hariç) fazla veren dış ticaret dengesi bu dönemde önemli ölçüde bozulmuştur. 1950-1960 yılları arasında, özel sermaye, öncelikle büyük ticaret ve tarım burjuvazisinin elinde birikmeye başladı. Liberalizasyon politikası sonucu ithalatın sürekli artması ve ihracat gelirlerindeki yetersizlik dış ticaret açıklarına sebep olmuş ve dış borçlar sürekli artmıştır. 1958 yılına gelindiğinde, Türkiye artık dış borç anapara ve faiz ödemelerinde zorluk çekmeye başlamış ve dış borçlarda moratoryuma (borç erteleme) gitmek zorunda kalmıştır. Liberal politikalar bu dönemde ülkede sanılanın aksine yüksek enflasyon, bütçe açıkları ve dış ticaret açıklarına yol açmıştır. Sabit kur politikası uygulamasının başarısız olması, ithalatın artması, 1954\\'ten sonra tarımsal üretimin düşmesi, büyüme hızının yavaşlaması, enflasyon hızının yükselmesi, döviz sıkıntısı ortaya çıkması ve ABD\\'nin dış yardımlarını kısması sonucu Türkiye ilk kez ve en kapsamlı istikrar kararlarını 1958 yılında yürürlüğe koymuştur.[2]\\n\\n1958 istikrar kararları sonucu:\\n\\nTL devalüe edilmiştir.\\n\\nMerkez Bankası kaynakları sınırlandırılarak para arzı kontrol edilmeye çalışılmıştır.\\n\\nKamu İktisadi Teşebbüslerinin (KİT) Merkez Bankası finansmanına sınırlama getirilmiştir.\\n\\nKİT ürünlerine zam yapılarak KİT\\'lerin zararları azaltılmaya çalışılmıştır.\\n\\nKamu harcamaları kısılarak bütçe açıkları daraltılmıştır.\\n\\nİstikrar programıyla tüm döviz alımlarında 1 dolar için 6,22 TL vergi alınırken; ithalat ve diğer döviz işlemlerine 1 dolar = 9,02 TL (2,80 TL + 6,22 TL Vergi) uygulaması benimsenmiştir. Dış ticaret işlemlerinde getirilen liberalleşme sonucu ithalat artmış ihracatta beklenen gelişme yaşanmamıştır.[2]\\n\\nPetrol krizleri (1974 ve 1980) [ değiştir | kaynağı değiştir ]\\n\\nKüresel ölçekte 1974 yılında meydana gelen petrol fiyatlarında yaklaşık 4 kat artış (I. Petrol Krizi) ekonomileri olumsuz etkilemiş. Stagflasyon olgusu ortaya çıkmıştır. Tarihte ilk kez enflasyon ile işsizliğin bir arada artması geçmiş yıllarda ekonomi politikalarında uygulanan teorilerin terk edilmesine yol açmıştır.[3] Keynes teorileri on yılın sonundan itibaren yerini arza dayalı politikalara bırakmasına yol açmıştır. 1974 yılında yaşanan bu ilk dalga krizler Kıbrıs Barış Harekâtı ve Türkiye\\'ye uygulanan ambargonun da etkisiyle, ülke ekonomisinde başta altyapı olmak üzere ekonomik darboğazlara girilmiştir. Bu dönemde ithal ikameci politikalar beklenenin aksine, ithal ikameci sanayileşmenin dışa bağımlılığı sonucu ithalat artışı ve az gelişmiş ülkelerin toptan ithal ikameci politika izlemesi sonucu az gelişmiş ülkelerin dış açıklarının genişlemesi söz konusu olmuştur. Türkiye\\'de de dış açık genişlemiş ve ödemeler dengesi sürekli açık vermiştir.\\n\\n1980 yılındaki II. Petrol Krizi küresel ölçekte petrol fiyatlarının tekrar, yaklaşık 2 kat, artmasına yol açmıştır. Kriz sonrası işsizlik yüzde 20\\'lere enflasyon ise yüzde 65\\'lere kadar yükseldi.[3] Krizin aşılması adına 24 Ocak Kararları yürürlüğe konuldu. Devalüasyona gidilmesi sonucu Türk lirası yaklaşık %48 düzeyinde değer kaybına uğradı. Sabit kurdan kontrollü dalgalı kur politikasına geçildi, yabancı sermaye girişi özendirildi.[3]\\n\\n1980 sonrası genel görünüm [ değiştir | kaynağı değiştir ]\\n\\n1980’li yıllarda Türkiye’de ekonomi politikası, içe dönük ve ithal ikameci büyüme stratejisinden dışa dönük ve serbest piyasa mekanizmasına dayanan sanayileşme politikasına kaymıştır. 1981 yılına kadar sabit kur uygulanmış, 1988 yılından itibaren kurlar bankalar arası döviz ve efektif piyasası koşulları tarafından belirlenmiştir. 1984 yılında döviz tasarruflarına getirilen kolaylıklar, döviz tevdiyat hesaplarında artışa neden olmuştur. 1989 yılında 32 Sayılı Kararname ile birlikte finansal serbestleşmeye geçilmesi ve sermaye hareketleri üzerindeki kısıtlamaların kaldırılması, ülkeye yönelik sıcak para şeklindeki sermaye hareketlerine hız kazandırmıştır. Finansal serbestleşme politikaları ve kamu kesimi borcu sonucu yükselen faiz oranları, sermayenin spekülatif olarak reel sektörden finans sektörüne kaymasına neden olmuştur. Türkiye’de 1990’lardan sonra yaşanan krizler dışa açık bir ekonomide yaşanan krizlerdir. Sermaye hareketleri serbesttir ve kısa vadeli yabancı sermaye finansmanına dayanan yüksek faiz-düşük kur politikası uygulanmıştır. Büyüme dönemleri kısa vadeli sermaye girişleri ile desteklenmiştir. 1994 ve 2001 Krizleri’nde dikkat çeken unsur bu iki krizin sermaye hareketlerinin serbestleştirilmesinden sonra gerçekleştiğidir. Krizlerin derinleşmesinde uygulanan bu politikaların da etkisi olduğu görülmüştür. Finansal piyasalardaki istikrarsızlıklar, beklentilerdeki kötümserlik ve güven eksiklikleri spekülatif atak oluşturarak, Merkez Bankası’nın rezervlerinin azalmasına neden olmaktadır. Yaşanan bu kriz dönemlerinde TL’ye olan güven sarsılmış ve yabancı paralarla ikame seviyesinde önemli artışlar yaşanmıştır. Türkiye’de 1994 ve Şubat 2001 Krizleri’nde spekülatif saldırılar Merkez Bankası’nın rezervlerini azaltmış ve uygulanan kur sistemi terk edilerek TL’nin devalüe edilmesine neden olmuştur.[4]\\n\\n1982 Bankerler Krizi [ değiştir | kaynağı değiştir ]\\n\\nBanker adı verilen kuruluşlar arasında ortaya çıkan faiz yükseltmeleri, bir süre sonra bankerleri borç alınan paraların faizinin ödenmesi için, sonradan daha yüksek faiz ile borçlanılmak zorunda bırakır. Böyle bir ortamda sürekli olarak faiz yükseltme davranışı ortaya çıkmıştır. 1982 yılında “Bankerler Krizi” serbest faiz politikasının ve banker iflaslarının, bireysel bankaların uygulamaları ile yönetim tarzlarının birleşmesinin bir sonucu olarak yaşanmıştır.[5]\\n\\n1990 Körfez Krizi [ değiştir | kaynağı değiştir ]\\n\\nTürkiye ekonomisinin dış etkilerle şekillenen ilk krizi 1990 yılındaki Körfez Krizi\\'dir. Birleşmiş Milletler\\'in Irak ve Kuveyt\\'e müdahaleleri ile şekillenen Körfez Savaşı bu krizin önemli olaylarındandır.\\n\\nNisan 1994 krizi [ değiştir | kaynağı değiştir ]\\n\\nTürkiye, 90\\'lı yıllardaki en derin krizini 1994 yılında yaşamıştır. 1994 öncesinde kamu kesimi faiz dışı harcamaları, kamu gelirlerinden daha fazla açık vermiş,[6] Kamu kesimi kazandığından daha fazlasını harcamıştır. Kamu borçlarının Merkez Bankası ile finanse edilmesi sonucunda Türkiye ilk defa hiper enflasyonu yaşamış, ardından yapılan kısmi; ama yeterli olmayan iyileşmeler neticesinde Türkiye krizden çıkabilmiştir.\\n\\n2000 krizi [ değiştir | kaynağı değiştir ]\\n\\nTürkiye 2000\\'li yılların sonlarına doğru küçük çapta bir kriz geçirmiştir.\\n\\nTürkiye\\'de 2001-2011 arası dış borç\\n\\n2001 krizi [ değiştir | kaynağı değiştir ]\\n\\n2001 Türkiye ekonomik krizi, ya da Kara Çarşamba, Türkiye tarihinin en büyük ekonomik krizlerinden biridir. Millî Güvenlik Kurulu toplantısında cumhurbaşkanı Ahmet Necdet Sezer ile başbakan Bülent Ecevit arasındaki siyasi kriz bir anda tüm ülkeyi etkisi altına alan ekonomik bir krize dönüşmüştür. Türkiye\\'nin Şubat 2001 finansal krizi, beklenmedik ölçüde ekonomik daralmayla sonuçlanmanın ötesinde, ülkenin orta vadeli perspektifini değiştiren yeni koşulları da beraberinde getirmiştir.[7]\\n\\nEkonomik beklentilerin olumsuzlaştığı bir ortamda, Hazine\\'nin yüklü bir borç itfası öncesinde 19 Şubat 2001\\'de beklenmedik siyasi gerginlikler yaşandı. Kriz, Milli Güvenlik Kurulu toplantısında Cumhurbaşkanı Ahmet Necdet Sezer ile Başbakan Bülent Ecevit arasındaki tartışmayla patlak verdi. 21 Şubat 2001 tarihli toplantıda Sezer\\'in Ecevit\\'e anayasa kitapçığı fırlatması olayından hemen sonra İstanbul Menkul Kıymetler Borsası\\'nda %18,1 oranında düşüş yaşandı gecelik faizler %7500’e kadar yükseldi. Daha sonra \"dalgalı kur\" sistemine geçilmesi yönünde karar alındı. Başbakan\\'ın \"devlet yönetiminde kriz var\" açıklamasıyla birlikte mali piyasalarda panikle başlayan süreç, yerli parayı savunmak için gecelik faizlerin çok yüksek oranlara ulaşmasına rağmen, yerleşiklerin yoğun döviz talebi nedeniyle Merkez Bankası\\'nın 5 milyar dolarlık döviz satışıyla sonuçlandı. Kamu bankalarının likidite ihtiyacının karşılanamaması, ödemeler sistemini kilitleyecek boyutlara ulaşmıştı. Banka sistemindeki büyük çöküşü önlemek için TL\\'nin yabancı para birimleri karşısındaki değeri dalgalanmaya bırakıldı.[8] Bir gün önce 670 bin TL olan dolar 1 milyon TL\\'yi aştı. Bunun sonucunda yabancı bankalar vadesi gelmemiş kredilerini geri çekmeye başlayınca 21 Şubat\\'ta bankalar arası para piyasasında gecelik faiz %6200\\'e kadar çıktı.[9][10] Yapılan bu örtülü devalüasyon ile, TL’nin değeri %40 civarında düştü. Devletin borcu da 29 katrilyon TL arttı.[kaynak belirtilmeli]\\n\\nYapılan detaylı inceleme sonucunda reel ekonomide arz ve talep yönlü daralma meydana geldiği için, krizden çıkışın Türkiye\\'nin eski krizlerinin aksine birkaç haftada olmayacağı görüşü yaygınlık kazandı.\\n\\n2008 küresel ekonomik krizi [ değiştir | kaynağı değiştir ]\\n\\nİzlanda borsası indeksi OMX Iceland 15\\'te 2008 yılında gözlenen ani düşüş\\n\\n2008 Ekonomik Krizi, 2008 yılının son aylarında ortaya çıkan ve dünyanın birçok ülkelerini olumsuz yönde etkileyen ekonomik gelişmelerdir. 1929 Dünya Ekonomik Bunalımıyla kıyaslanan bu kriz özellikle Eylül 2008 ayında gözle görülür hale gelmiştir. ABD\\'deki taşınmaz mal piyasasının birden değer kaybetmesi ve bunun sonucu olarak tutulu satışlardaki kişisel iflasların artmasının bu krizi tetiklediği sanılmaktadır.[11]\\n\\n2018-23 döviz ve borç krizi [ değiştir | kaynağı değiştir ]\\n\\n2018-23 Türkiye döviz ve borç krizi, Türkiye\\'de devam eden ve finansal bulaşma yüzünden uluslararası yansımaları olan Türkiye tarihinin ekonomik krizlerinden biridir. Türk lirasının rekor değer kaybı, çok yüksek enflasyon ve karşılık gelen kredi temerrütleriyle karakterize olup krizin genel olarak, Türkiye ekonomisindeki en yüksek cari açık ve yabancı para borcunun, faiz politikasına ilişkin alışılmışın dışında atılımlar ile birleştiği düşünülmektedir. \"How Turkey fell from investment darling to junk-rated emerging market\". The Economist. 19 Mayıs 2018. 12 Haziran 2018 tarihinde kaynağından arşivlendi .\\n\\nKriz, liranın dalgalanmalar hâlinde çok büyük oranda değer kaybetmesiyle görünür olmaya başladı ve sonraki aşamada ödenemeyen borçlar ve ekonomik daralma ile daha derin bir boyuta ulaştı. Enflasyon oranı çift hanelere çıktı. Kriz, kolay kredi ve devlet bütçesiyle desteklenen inşaat sektörü patlamasının yarattığı ekonomik büyümenin sonunu getirdi.[12]\\n\\n2016 yılı itibarıyla etkisini gösteren Türkiye döviz ve borç krizi, sosyal ve ekonomik olarak en çok döviz kurları ve Merkez Bankasının döviz rezervleri üzerinde hissedilmiştir.\\n\\nMerkez Bankası\\'nın verilerine göre, 1 Ocak 2018 tarihinde 3.78 seviyesinde bulunan dolar kuru, 20 Nisan 2020 tarihi itibarıyla 6.95 seviyesine yükselmiştir. Aynı dönemde Avrupa Para birimi Euro ise, 4.54 seviyesinden 7.53 lira seviyesine yükselmiştir.[13]\\n\\nYine Merkez Bankasının piyasalar tarafından önemle takip edilen döviz rezervleri de 2018 sonrası önemli düzeyde düştü. 2018 yılı Ocak ayında Merkez Bankasının net döviz rezervi 77.9 milyar dolar iken,[14] 2020 yılı Ocak ayı itibarıyla 33.9 milyar dolara gerilemiştir.[15]\\n\\nTürkiye Cumhuriyet Merkez Bankası EVDS Çalışma Grubu verisine göre 5 Ocak 2018 tarihindeki brüt döviz rezervi 87,466 milyar dolar, 23 Ekim 2020 tarihinde 45,086 milyar dolardır.[16]\\n\\nYükselen dolar kuru, 11 Ekim 2021 itibarıyla 9₺\\'yi aştı ve ilerleyen aylarda gelen faiz indirimlerinin de etkisiyle 12 Kasım 2021 tarihinde 10₺ seviyesini ilk defa gördü.[17][18]\\n\\nYükselen dolar kuru, 18 Kasım 2021 itibarıyla 11₺‘yi geçmiştir.\\n\\n23.11.2021 tarihi itibarıyla dolar gün içinde %13 artarak 13,46 değerine ulaştı.[19] 18.12.2021 tarihi itibarıyla dolar gün içinde %8 artarak 16.70 değerine ulaştı. 12 - 18 Aralık 2021 haftası Türk Lirası dolar karşısında %20.11 değer kaybetmiş oldu. 09 Mart 2022 tarihi itibarıyla dolar kuru 14,53 değerine ulaştı.\\n\\n16.08.2022 tarihi itibarıyla dolar ay içerisinde %3.55 değer kazanarak 17,97 değerine ulaştı ve 17,96 ile işlem görmeye başladı euro 18,23 İngiliz sterlini 21,62\\'den işlem görmekte.[20]\\n\\n6 Ocak 2023 Saat 16.50\\'de 1 Amerikan Doları\\'nın karşısında değeri 18,76 Türk Lirası oldu.\\n\\n30 Ocak 2023\\'te TCMB, gösterge niteliğindeki 1 Amerikan Doları satışını 18.8215TL olarak yayınladı.[21]'"
      ]
     },
     "execution_count": 15,
     "metadata": {},
     "output_type": "execute_result"
    }
   ],
   "source": [
    "text"
   ]
  },
  {
   "cell_type": "code",
   "execution_count": 16,
   "id": "b8bf0062",
   "metadata": {},
   "outputs": [],
   "source": [
    "summary= article.summary"
   ]
  },
  {
   "cell_type": "code",
   "execution_count": 17,
   "id": "ba351280",
   "metadata": {},
   "outputs": [
    {
     "data": {
      "text/plain": [
       "\"Türkiye'de finansal krizler ya da ekonomik krizler makro ekonomik yapının bozulmasıyla ortaya çıkan buhran dönemleridir.\\nTürkiye'de 2001-2011 arası dış borç2001 krizi [ değiştir | kaynağı değiştir ]2001 Türkiye ekonomik krizi, ya da Kara Çarşamba, Türkiye tarihinin en büyük ekonomik krizlerinden biridir.\\n2008 küresel ekonomik krizi [ değiştir | kaynağı değiştir ]İzlanda borsası indeksi OMX Iceland 15'te 2008 yılında gözlenen ani düşüş2008 Ekonomik Krizi, 2008 yılının son aylarında ortaya çıkan ve dünyanın birçok ülkelerini olumsuz yönde etkileyen ekonomik gelişmelerdir.\\n[11]2018-23 döviz ve borç krizi [ değiştir | kaynağı değiştir ]2018-23 Türkiye döviz ve borç krizi, Türkiye'de devam eden ve finansal bulaşma yüzünden uluslararası yansımaları olan Türkiye tarihinin ekonomik krizlerinden biridir.\\n[12]2016 yılı itibarıyla etkisini gösteren Türkiye döviz ve borç krizi, sosyal ve ekonomik olarak en çok döviz kurları ve Merkez Bankasının döviz rezervleri üzerinde hissedilmiştir.\""
      ]
     },
     "execution_count": 17,
     "metadata": {},
     "output_type": "execute_result"
    }
   ],
   "source": [
    "summary"
   ]
  },
  {
   "cell_type": "code",
   "execution_count": 19,
   "id": "1fdfd12f",
   "metadata": {},
   "outputs": [],
   "source": [
    "blob= TextBlob(text)"
   ]
  },
  {
   "cell_type": "code",
   "execution_count": 20,
   "id": "c7fe910b",
   "metadata": {},
   "outputs": [],
   "source": [
    "sentiment= blob.sentiment.polarity"
   ]
  },
  {
   "cell_type": "code",
   "execution_count": 21,
   "id": "fde06919",
   "metadata": {},
   "outputs": [
    {
     "data": {
      "text/plain": [
       "0.0"
      ]
     },
     "execution_count": 21,
     "metadata": {},
     "output_type": "execute_result"
    }
   ],
   "source": [
    "sentiment"
   ]
  },
  {
   "cell_type": "code",
   "execution_count": 23,
   "id": "7bd9fb58",
   "metadata": {},
   "outputs": [],
   "source": [
    "url2= \"https://tr.wikipedia.org/wiki/Ba%C4%9F%C4%B1%C5%9F_toplama\""
   ]
  },
  {
   "cell_type": "code",
   "execution_count": 24,
   "id": "5c569120",
   "metadata": {},
   "outputs": [],
   "source": [
    "article= Article(url2)\n",
    "article.download()\n",
    "article.parse()\n",
    "article.nlp()\n",
    "text=article.text"
   ]
  },
  {
   "cell_type": "code",
   "execution_count": 25,
   "id": "d3adef5a",
   "metadata": {},
   "outputs": [],
   "source": [
    "blob= TextBlob(text)\n",
    "sentiment= blob.sentiment.polarity"
   ]
  },
  {
   "cell_type": "code",
   "execution_count": 26,
   "id": "7cdf5891",
   "metadata": {},
   "outputs": [
    {
     "data": {
      "text/plain": [
       "0.0"
      ]
     },
     "execution_count": 26,
     "metadata": {},
     "output_type": "execute_result"
    }
   ],
   "source": [
    "sentiment"
   ]
  },
  {
   "cell_type": "code",
   "execution_count": 27,
   "id": "efe25888",
   "metadata": {},
   "outputs": [],
   "source": [
    "# why 0?"
   ]
  },
  {
   "cell_type": "code",
   "execution_count": 28,
   "id": "9802fce3",
   "metadata": {},
   "outputs": [],
   "source": [
    "# we can write text file"
   ]
  },
  {
   "cell_type": "code",
   "execution_count": 43,
   "id": "1e652281",
   "metadata": {},
   "outputs": [],
   "source": [
    "with open(\"example.txt\",\"r\") as f:\n",
    "    text=f.read()"
   ]
  },
  {
   "cell_type": "code",
   "execution_count": 44,
   "id": "782279d2",
   "metadata": {},
   "outputs": [],
   "source": [
    "blob= TextBlob(text)\n",
    "sentiment= blob.sentiment.polarity"
   ]
  },
  {
   "cell_type": "code",
   "execution_count": 45,
   "id": "ec15884b",
   "metadata": {},
   "outputs": [
    {
     "data": {
      "text/plain": [
       "0.010924723424723419"
      ]
     },
     "execution_count": 45,
     "metadata": {},
     "output_type": "execute_result"
    }
   ],
   "source": [
    "sentiment"
   ]
  },
  {
   "cell_type": "code",
   "execution_count": 46,
   "id": "7b7ddd81",
   "metadata": {},
   "outputs": [],
   "source": [
    "url3= \"https://en.wikipedia.org/wiki/Category:Murder_in_the_United_States\""
   ]
  },
  {
   "cell_type": "code",
   "execution_count": 47,
   "id": "9c489754",
   "metadata": {},
   "outputs": [],
   "source": [
    "article= Article(url3)\n",
    "article.download()\n",
    "article.parse()\n",
    "article.nlp()"
   ]
  },
  {
   "cell_type": "code",
   "execution_count": 48,
   "id": "58c639da",
   "metadata": {},
   "outputs": [],
   "source": [
    "text=article.text"
   ]
  },
  {
   "cell_type": "code",
   "execution_count": 49,
   "id": "fbd35cf0",
   "metadata": {},
   "outputs": [
    {
     "data": {
      "text/plain": [
       "'This category has the following 21 subcategories, out of 21 total.\\n\\nPages in category \"Murder in the United States\"\\n\\nThe following 17 pages are in this category, out of 17 total. This list may not reflect recent changes.'"
      ]
     },
     "execution_count": 49,
     "metadata": {},
     "output_type": "execute_result"
    }
   ],
   "source": [
    "text"
   ]
  },
  {
   "cell_type": "code",
   "execution_count": 50,
   "id": "110e897a",
   "metadata": {},
   "outputs": [
    {
     "data": {
      "text/plain": [
       "0.0"
      ]
     },
     "execution_count": 50,
     "metadata": {},
     "output_type": "execute_result"
    }
   ],
   "source": [
    "blob= TextBlob(text)\n",
    "sentiment= blob.sentiment.polarity\n",
    "sentiment"
   ]
  },
  {
   "cell_type": "code",
   "execution_count": null,
   "id": "c0b88a43",
   "metadata": {},
   "outputs": [],
   "source": []
  }
 ],
 "metadata": {
  "kernelspec": {
   "display_name": "Python 3 (ipykernel)",
   "language": "python",
   "name": "python3"
  },
  "language_info": {
   "codemirror_mode": {
    "name": "ipython",
    "version": 3
   },
   "file_extension": ".py",
   "mimetype": "text/x-python",
   "name": "python",
   "nbconvert_exporter": "python",
   "pygments_lexer": "ipython3",
   "version": "3.10.9"
  }
 },
 "nbformat": 4,
 "nbformat_minor": 5
}
